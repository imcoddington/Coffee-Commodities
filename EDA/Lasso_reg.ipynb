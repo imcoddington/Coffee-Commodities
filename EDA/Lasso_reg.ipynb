{
 "cells": [
  {
   "cell_type": "code",
   "execution_count": 966,
   "metadata": {},
   "outputs": [],
   "source": [
    "import pandas as pd \n",
    "import numpy as np \n",
    "import matplotlib.pyplot as plt\n",
    "from sklearn.model_selection import train_test_split\n",
    "from sklearn.preprocessing import OneHotEncoder\n",
    "from sklearn.preprocessing import StandardScaler\n",
    "from sklearn.metrics import r2_score\n",
    "import matplotlib.pyplot as plt"
   ]
  },
  {
   "cell_type": "markdown",
   "metadata": {},
   "source": [
    "Let's first generate synthetic data \n",
    "- We are using synthetic data a it gives us full control and we can see exactly how the model works"
   ]
  },
  {
   "cell_type": "code",
   "execution_count": 967,
   "metadata": {},
   "outputs": [
    {
     "data": {
      "text/plain": [
       "array([ 0.42767892, -0.19635556, -0.03129531,  0.97847725,  0.20068843,\n",
       "       -1.00072194, -1.78641748, -0.59635769, -0.01060385, -0.45474965,\n",
       "       -0.78722914, -0.88828768,  0.43071057,  1.00069938, -0.43644003,\n",
       "       -0.5279149 ,  0.72106066, -1.68472136, -1.24938327,  0.32023077,\n",
       "       -1.62891011,  0.16850994, -0.63330468,  1.15480728, -0.98129106,\n",
       "       -1.27303679, -1.0208608 ,  0.54918213,  0.43987868, -0.57745047,\n",
       "        0.80883741, -0.01370656, -0.32212626, -0.00876642,  0.61998421,\n",
       "        1.13097332, -0.69739048,  0.61384071, -0.74595131, -0.23770248,\n",
       "       -1.04161971, -0.71904935,  0.18013764, -1.89428222, -1.75700969,\n",
       "       -0.34639074, -1.15539885, -0.59627163, -0.79540116, -0.42902236,\n",
       "        0.67888449,  0.011398  ,  0.03547306,  0.86074543,  0.84775649,\n",
       "        0.53486871,  0.94891628, -0.52474542, -0.11477715,  0.07815744,\n",
       "        0.59630166,  0.17580584,  0.14111257, -1.113765  , -0.91891013,\n",
       "       -0.11189806, -0.12755181,  0.96690888, -1.74867925,  0.84558052,\n",
       "        0.40304964, -0.52947884,  0.27457673, -0.88665402,  0.69349154,\n",
       "       -0.08015456,  0.66723691, -0.2011499 , -0.35506872,  1.23087082,\n",
       "        0.0802108 ,  0.39331075, -0.15554921, -0.79515808, -0.55162423,\n",
       "        0.9474994 , -0.79055056, -0.79703625, -1.30211254, -0.79698956,\n",
       "       -0.74997649, -0.72723421, -1.34528729, -1.96711714,  0.13529561,\n",
       "        0.08709342, -0.4241447 ,  0.20299608, -0.63386131,  0.9594121 ])"
      ]
     },
     "execution_count": 967,
     "metadata": {},
     "output_type": "execute_result"
    }
   ],
   "source": [
    "# np.random.seed(42)\n",
    "X = np.random.rand(100,3)\n",
    "beta_true = np.array([1.5,0,-2])\n",
    "y = X @ beta_true + np.random.randn(100) * 0.1\n",
    "y"
   ]
  },
  {
   "cell_type": "markdown",
   "metadata": {},
   "source": [
    "We now write the lasso loss function which is basically standard linear regression with an L1 regularization parmeter\n",
    "$$\\ell(\\beta) = \\frac{1}{2n} \\sum_{i=1}^n (y_i- X_i\\beta)^2 + \\lambda\\sum_{j=1}^p |\\beta_j|$$\n",
    "\n",
    "here, our $\\lambda$ parameter controls how strong our regularization will be. the higher the parameter, the more coefficints wil be forced to 0 \n",
    "\n",
    "We will now translate this into code!!"
   ]
  },
  {
   "cell_type": "code",
   "execution_count": 968,
   "metadata": {},
   "outputs": [],
   "source": [
    "def loss_fn_lasso(X,y,beta,lmbda):\n",
    "    n = len(y)\n",
    "    pred = X @ beta\n",
    "    resid = y - pred\n",
    "    l = (1/2*n)* np.sum(resid**2)+ lmbda*np.sum(np.abs(beta))\n",
    "    return l "
   ]
  },
  {
   "cell_type": "markdown",
   "metadata": {},
   "source": [
    "We are now going to use gradint descent to minize the loss function, we will also be using a soft-thresholding operator to handle the L1 term\n",
    "\n",
    "Soft thresholding is needed becaus ethe L1 penalty isnt smooth and as a result we need soft thresholding to ensure that the coeeficients are updated properly\n",
    "\n",
    "**Definition of soft thresholding**\n",
    "\n",
    "for a scalar input $x$ and threshold $\\lambda \\geq 0  $ the soft-thresholding operator $S_\\lambda(x)$ is defined as: \n",
    "\n",
    "$$S_\\lambda(x) = sign(x) \\cdot \\max(|x|-\\lambda,0)$$\n",
    "\n",
    "essentially, this implies that:\n",
    "\n",
    "- if $|x| > \\lambda $ the operator subtracts $\\lambda$ from the aboslute value of $x$ and retains the orignal sign. e.g if $x= 5 , \\lambda = 3 $ then $ S_3(5) = 1 \\cdot (5-3) = 2 $\n",
    "    \n",
    "- if $|x| \\leq \\lambda $ the result is 0\n",
    "\n",
    "\n",
    "\n",
    "\n"
   ]
  },
  {
   "cell_type": "code",
   "execution_count": 969,
   "metadata": {},
   "outputs": [],
   "source": [
    "def lasso_gd(X,y,beta, lmbda,lr,itter):\n",
    "    n = len(y)\n",
    "    for _ in range (itter):\n",
    "        pred = X@beta\n",
    "        gradient = -(1/n)*X.T @ (y-pred)\n",
    "        beta = beta - lr * gradient\n",
    "        # This is wher we apply the soft thresholding I mentioned above\n",
    "        beta = np.sign(beta)* np. maximum(0,np.abs(beta) - lr *lmbda)\n",
    "    return beta"
   ]
  },
  {
   "cell_type": "markdown",
   "metadata": {},
   "source": [
    "Now we will apply these function to our data in conjunction witha cross validation method to tune our $\\lambda$ paramater"
   ]
  },
  {
   "cell_type": "code",
   "execution_count": 970,
   "metadata": {},
   "outputs": [
    {
     "data": {
      "text/plain": [
       "array([ 1.02814412, -0.        , -1.50703159])"
      ]
     },
     "execution_count": 970,
     "metadata": {},
     "output_type": "execute_result"
    }
   ],
   "source": [
    "beta_init = np.random.randn(3)\n",
    "lmbda_param = 0.01\n",
    "lr = 0.02\n",
    "itter = 1000\n",
    "\n",
    "beta_hat = lasso_gd(X,y,beta_init,lmbda_param,lr,itter)\n",
    "beta_hat"
   ]
  },
  {
   "cell_type": "markdown",
   "metadata": {},
   "source": [
    "Now let's optimize our lambda parameter\n",
    "\n",
    "\n"
   ]
  },
  {
   "cell_type": "code",
   "execution_count": 971,
   "metadata": {},
   "outputs": [
    {
     "name": "stdout",
     "output_type": "stream",
     "text": [
      "0.01\n"
     ]
    }
   ],
   "source": [
    "lmbdas = [0.01,0.1,1.0,10.0,100.0]\n",
    "\n",
    "def hyp_opt(lmbdas,X,y,beta_init,lr,itter,bt):\n",
    "    Sumsqerr = lambda bt, bp : np.sum((bt - bp)**2)\n",
    "    best = np.inf\n",
    "    ell = 0\n",
    "    for lmbda in lmbdas: \n",
    "        bp = lasso_gd(X, y, beta_init, lmbda, lr, itter)\n",
    "        if Sumsqerr(bt,bp) <= best: \n",
    "            best = Sumsqerr(bt,bp)\n",
    "            ell = lmbda\n",
    "    return ell \n",
    "\n",
    "optimal = hyp_opt(lmbdas,X,y,beta_init,lr,itter,beta_true)  \n",
    "print(optimal)\n",
    "    \n",
    "\n",
    "\n"
   ]
  },
  {
   "cell_type": "markdown",
   "metadata": {},
   "source": [
    "We are going to use lasso on a popular insurance dataset \n",
    "Let's predict insurance charges based on all the other predictors "
   ]
  },
  {
   "cell_type": "code",
   "execution_count": 972,
   "metadata": {},
   "outputs": [
    {
     "data": {
      "application/vnd.microsoft.datawrangler.viewer.v0+json": {
       "columns": [
        {
         "name": "index",
         "rawType": "int64",
         "type": "integer"
        },
        {
         "name": "age",
         "rawType": "int64",
         "type": "integer"
        },
        {
         "name": "sex",
         "rawType": "object",
         "type": "string"
        },
        {
         "name": "bmi",
         "rawType": "float64",
         "type": "float"
        },
        {
         "name": "children",
         "rawType": "int64",
         "type": "integer"
        },
        {
         "name": "smoker",
         "rawType": "object",
         "type": "string"
        },
        {
         "name": "region",
         "rawType": "object",
         "type": "string"
        },
        {
         "name": "charges",
         "rawType": "float64",
         "type": "float"
        }
       ],
       "conversionMethod": "pd.DataFrame",
       "ref": "ee4ffd39-8fe5-4737-a5d7-0ad4e9b17605",
       "rows": [
        [
         "0",
         "19",
         "female",
         "27.9",
         "0",
         "yes",
         "southwest",
         "16884.924"
        ],
        [
         "1",
         "18",
         "male",
         "33.77",
         "1",
         "no",
         "southeast",
         "1725.5523"
        ],
        [
         "2",
         "28",
         "male",
         "33.0",
         "3",
         "no",
         "southeast",
         "4449.462"
        ],
        [
         "3",
         "33",
         "male",
         "22.705",
         "0",
         "no",
         "northwest",
         "21984.47061"
        ],
        [
         "4",
         "32",
         "male",
         "28.88",
         "0",
         "no",
         "northwest",
         "3866.8552"
        ],
        [
         "5",
         "31",
         "female",
         "25.74",
         "0",
         "no",
         "southeast",
         "3756.6216"
        ],
        [
         "6",
         "46",
         "female",
         "33.44",
         "1",
         "no",
         "southeast",
         "8240.5896"
        ],
        [
         "7",
         "37",
         "female",
         "27.74",
         "3",
         "no",
         "northwest",
         "7281.5056"
        ],
        [
         "8",
         "37",
         "male",
         "29.83",
         "2",
         "no",
         "northeast",
         "6406.4107"
        ],
        [
         "9",
         "60",
         "female",
         "25.84",
         "0",
         "no",
         "northwest",
         "28923.13692"
        ],
        [
         "10",
         "25",
         "male",
         "26.22",
         "0",
         "no",
         "northeast",
         "2721.3208"
        ],
        [
         "11",
         "62",
         "female",
         "26.29",
         "0",
         "yes",
         "southeast",
         "27808.7251"
        ],
        [
         "12",
         "23",
         "male",
         "34.4",
         "0",
         "no",
         "southwest",
         "1826.843"
        ],
        [
         "13",
         "56",
         "female",
         "39.82",
         "0",
         "no",
         "southeast",
         "11090.7178"
        ],
        [
         "14",
         "27",
         "male",
         "42.13",
         "0",
         "yes",
         "southeast",
         "39611.7577"
        ],
        [
         "15",
         "19",
         "male",
         "24.6",
         "1",
         "no",
         "southwest",
         "1837.237"
        ],
        [
         "16",
         "52",
         "female",
         "30.78",
         "1",
         "no",
         "northeast",
         "10797.3362"
        ],
        [
         "17",
         "23",
         "male",
         "23.845",
         "0",
         "no",
         "northeast",
         "2395.17155"
        ],
        [
         "18",
         "56",
         "male",
         "40.3",
         "0",
         "no",
         "southwest",
         "10602.385"
        ],
        [
         "19",
         "30",
         "male",
         "35.3",
         "0",
         "yes",
         "southwest",
         "36837.467"
        ],
        [
         "20",
         "60",
         "female",
         "36.005",
         "0",
         "no",
         "northeast",
         "13228.84695"
        ],
        [
         "21",
         "30",
         "female",
         "32.4",
         "1",
         "no",
         "southwest",
         "4149.736"
        ],
        [
         "22",
         "18",
         "male",
         "34.1",
         "0",
         "no",
         "southeast",
         "1137.011"
        ],
        [
         "23",
         "34",
         "female",
         "31.92",
         "1",
         "yes",
         "northeast",
         "37701.8768"
        ],
        [
         "24",
         "37",
         "male",
         "28.025",
         "2",
         "no",
         "northwest",
         "6203.90175"
        ],
        [
         "25",
         "59",
         "female",
         "27.72",
         "3",
         "no",
         "southeast",
         "14001.1338"
        ],
        [
         "26",
         "63",
         "female",
         "23.085",
         "0",
         "no",
         "northeast",
         "14451.83515"
        ],
        [
         "27",
         "55",
         "female",
         "32.775",
         "2",
         "no",
         "northwest",
         "12268.63225"
        ],
        [
         "28",
         "23",
         "male",
         "17.385",
         "1",
         "no",
         "northwest",
         "2775.19215"
        ],
        [
         "29",
         "31",
         "male",
         "36.3",
         "2",
         "yes",
         "southwest",
         "38711.0"
        ],
        [
         "30",
         "22",
         "male",
         "35.6",
         "0",
         "yes",
         "southwest",
         "35585.576"
        ],
        [
         "31",
         "18",
         "female",
         "26.315",
         "0",
         "no",
         "northeast",
         "2198.18985"
        ],
        [
         "32",
         "19",
         "female",
         "28.6",
         "5",
         "no",
         "southwest",
         "4687.797"
        ],
        [
         "33",
         "63",
         "male",
         "28.31",
         "0",
         "no",
         "northwest",
         "13770.0979"
        ],
        [
         "34",
         "28",
         "male",
         "36.4",
         "1",
         "yes",
         "southwest",
         "51194.55914"
        ],
        [
         "35",
         "19",
         "male",
         "20.425",
         "0",
         "no",
         "northwest",
         "1625.43375"
        ],
        [
         "36",
         "62",
         "female",
         "32.965",
         "3",
         "no",
         "northwest",
         "15612.19335"
        ],
        [
         "37",
         "26",
         "male",
         "20.8",
         "0",
         "no",
         "southwest",
         "2302.3"
        ],
        [
         "38",
         "35",
         "male",
         "36.67",
         "1",
         "yes",
         "northeast",
         "39774.2763"
        ],
        [
         "39",
         "60",
         "male",
         "39.9",
         "0",
         "yes",
         "southwest",
         "48173.361"
        ],
        [
         "40",
         "24",
         "female",
         "26.6",
         "0",
         "no",
         "northeast",
         "3046.062"
        ],
        [
         "41",
         "31",
         "female",
         "36.63",
         "2",
         "no",
         "southeast",
         "4949.7587"
        ],
        [
         "42",
         "41",
         "male",
         "21.78",
         "1",
         "no",
         "southeast",
         "6272.4772"
        ],
        [
         "43",
         "37",
         "female",
         "30.8",
         "2",
         "no",
         "southeast",
         "6313.759"
        ],
        [
         "44",
         "38",
         "male",
         "37.05",
         "1",
         "no",
         "northeast",
         "6079.6715"
        ],
        [
         "45",
         "55",
         "male",
         "37.3",
         "0",
         "no",
         "southwest",
         "20630.28351"
        ],
        [
         "46",
         "18",
         "female",
         "38.665",
         "2",
         "no",
         "northeast",
         "3393.35635"
        ],
        [
         "47",
         "28",
         "female",
         "34.77",
         "0",
         "no",
         "northwest",
         "3556.9223"
        ],
        [
         "48",
         "60",
         "female",
         "24.53",
         "0",
         "no",
         "southeast",
         "12629.8967"
        ],
        [
         "49",
         "36",
         "male",
         "35.2",
         "1",
         "yes",
         "southeast",
         "38709.176"
        ]
       ],
       "shape": {
        "columns": 7,
        "rows": 1338
       }
      },
      "text/html": [
       "<div>\n",
       "<style scoped>\n",
       "    .dataframe tbody tr th:only-of-type {\n",
       "        vertical-align: middle;\n",
       "    }\n",
       "\n",
       "    .dataframe tbody tr th {\n",
       "        vertical-align: top;\n",
       "    }\n",
       "\n",
       "    .dataframe thead th {\n",
       "        text-align: right;\n",
       "    }\n",
       "</style>\n",
       "<table border=\"1\" class=\"dataframe\">\n",
       "  <thead>\n",
       "    <tr style=\"text-align: right;\">\n",
       "      <th></th>\n",
       "      <th>age</th>\n",
       "      <th>sex</th>\n",
       "      <th>bmi</th>\n",
       "      <th>children</th>\n",
       "      <th>smoker</th>\n",
       "      <th>region</th>\n",
       "      <th>charges</th>\n",
       "    </tr>\n",
       "  </thead>\n",
       "  <tbody>\n",
       "    <tr>\n",
       "      <th>0</th>\n",
       "      <td>19</td>\n",
       "      <td>female</td>\n",
       "      <td>27.900</td>\n",
       "      <td>0</td>\n",
       "      <td>yes</td>\n",
       "      <td>southwest</td>\n",
       "      <td>16884.92400</td>\n",
       "    </tr>\n",
       "    <tr>\n",
       "      <th>1</th>\n",
       "      <td>18</td>\n",
       "      <td>male</td>\n",
       "      <td>33.770</td>\n",
       "      <td>1</td>\n",
       "      <td>no</td>\n",
       "      <td>southeast</td>\n",
       "      <td>1725.55230</td>\n",
       "    </tr>\n",
       "    <tr>\n",
       "      <th>2</th>\n",
       "      <td>28</td>\n",
       "      <td>male</td>\n",
       "      <td>33.000</td>\n",
       "      <td>3</td>\n",
       "      <td>no</td>\n",
       "      <td>southeast</td>\n",
       "      <td>4449.46200</td>\n",
       "    </tr>\n",
       "    <tr>\n",
       "      <th>3</th>\n",
       "      <td>33</td>\n",
       "      <td>male</td>\n",
       "      <td>22.705</td>\n",
       "      <td>0</td>\n",
       "      <td>no</td>\n",
       "      <td>northwest</td>\n",
       "      <td>21984.47061</td>\n",
       "    </tr>\n",
       "    <tr>\n",
       "      <th>4</th>\n",
       "      <td>32</td>\n",
       "      <td>male</td>\n",
       "      <td>28.880</td>\n",
       "      <td>0</td>\n",
       "      <td>no</td>\n",
       "      <td>northwest</td>\n",
       "      <td>3866.85520</td>\n",
       "    </tr>\n",
       "    <tr>\n",
       "      <th>...</th>\n",
       "      <td>...</td>\n",
       "      <td>...</td>\n",
       "      <td>...</td>\n",
       "      <td>...</td>\n",
       "      <td>...</td>\n",
       "      <td>...</td>\n",
       "      <td>...</td>\n",
       "    </tr>\n",
       "    <tr>\n",
       "      <th>1333</th>\n",
       "      <td>50</td>\n",
       "      <td>male</td>\n",
       "      <td>30.970</td>\n",
       "      <td>3</td>\n",
       "      <td>no</td>\n",
       "      <td>northwest</td>\n",
       "      <td>10600.54830</td>\n",
       "    </tr>\n",
       "    <tr>\n",
       "      <th>1334</th>\n",
       "      <td>18</td>\n",
       "      <td>female</td>\n",
       "      <td>31.920</td>\n",
       "      <td>0</td>\n",
       "      <td>no</td>\n",
       "      <td>northeast</td>\n",
       "      <td>2205.98080</td>\n",
       "    </tr>\n",
       "    <tr>\n",
       "      <th>1335</th>\n",
       "      <td>18</td>\n",
       "      <td>female</td>\n",
       "      <td>36.850</td>\n",
       "      <td>0</td>\n",
       "      <td>no</td>\n",
       "      <td>southeast</td>\n",
       "      <td>1629.83350</td>\n",
       "    </tr>\n",
       "    <tr>\n",
       "      <th>1336</th>\n",
       "      <td>21</td>\n",
       "      <td>female</td>\n",
       "      <td>25.800</td>\n",
       "      <td>0</td>\n",
       "      <td>no</td>\n",
       "      <td>southwest</td>\n",
       "      <td>2007.94500</td>\n",
       "    </tr>\n",
       "    <tr>\n",
       "      <th>1337</th>\n",
       "      <td>61</td>\n",
       "      <td>female</td>\n",
       "      <td>29.070</td>\n",
       "      <td>0</td>\n",
       "      <td>yes</td>\n",
       "      <td>northwest</td>\n",
       "      <td>29141.36030</td>\n",
       "    </tr>\n",
       "  </tbody>\n",
       "</table>\n",
       "<p>1338 rows × 7 columns</p>\n",
       "</div>"
      ],
      "text/plain": [
       "      age     sex     bmi  children smoker     region      charges\n",
       "0      19  female  27.900         0    yes  southwest  16884.92400\n",
       "1      18    male  33.770         1     no  southeast   1725.55230\n",
       "2      28    male  33.000         3     no  southeast   4449.46200\n",
       "3      33    male  22.705         0     no  northwest  21984.47061\n",
       "4      32    male  28.880         0     no  northwest   3866.85520\n",
       "...   ...     ...     ...       ...    ...        ...          ...\n",
       "1333   50    male  30.970         3     no  northwest  10600.54830\n",
       "1334   18  female  31.920         0     no  northeast   2205.98080\n",
       "1335   18  female  36.850         0     no  southeast   1629.83350\n",
       "1336   21  female  25.800         0     no  southwest   2007.94500\n",
       "1337   61  female  29.070         0    yes  northwest  29141.36030\n",
       "\n",
       "[1338 rows x 7 columns]"
      ]
     },
     "execution_count": 972,
     "metadata": {},
     "output_type": "execute_result"
    }
   ],
   "source": [
    "df = pd.read_csv(\"Play data/insurance.csv\")\n",
    "df"
   ]
  },
  {
   "cell_type": "markdown",
   "metadata": {},
   "source": [
    "Let's do some encoding "
   ]
  },
  {
   "cell_type": "code",
   "execution_count": 973,
   "metadata": {},
   "outputs": [
    {
     "data": {
      "application/vnd.microsoft.datawrangler.viewer.v0+json": {
       "columns": [
        {
         "name": "index",
         "rawType": "int64",
         "type": "integer"
        },
        {
         "name": "age",
         "rawType": "int64",
         "type": "integer"
        },
        {
         "name": "sex",
         "rawType": "int64",
         "type": "integer"
        },
        {
         "name": "bmi",
         "rawType": "float64",
         "type": "float"
        },
        {
         "name": "children",
         "rawType": "int64",
         "type": "integer"
        },
        {
         "name": "smoker",
         "rawType": "int64",
         "type": "integer"
        },
        {
         "name": "charges",
         "rawType": "float64",
         "type": "float"
        },
        {
         "name": "region_northeast",
         "rawType": "int64",
         "type": "integer"
        },
        {
         "name": "region_northwest",
         "rawType": "int64",
         "type": "integer"
        },
        {
         "name": "region_southeast",
         "rawType": "int64",
         "type": "integer"
        },
        {
         "name": "region_southwest",
         "rawType": "int64",
         "type": "integer"
        }
       ],
       "conversionMethod": "pd.DataFrame",
       "ref": "0a4d9dbb-538d-4927-ae6b-e957555dab3d",
       "rows": [
        [
         "0",
         "19",
         "1",
         "27.9",
         "0",
         "0",
         "16884.924",
         "0",
         "0",
         "0",
         "1"
        ],
        [
         "1",
         "18",
         "0",
         "33.77",
         "1",
         "1",
         "1725.5523",
         "0",
         "0",
         "1",
         "0"
        ],
        [
         "2",
         "28",
         "0",
         "33.0",
         "3",
         "1",
         "4449.462",
         "0",
         "0",
         "1",
         "0"
        ],
        [
         "3",
         "33",
         "0",
         "22.705",
         "0",
         "1",
         "21984.47061",
         "0",
         "1",
         "0",
         "0"
        ],
        [
         "4",
         "32",
         "0",
         "28.88",
         "0",
         "1",
         "3866.8552",
         "0",
         "1",
         "0",
         "0"
        ],
        [
         "5",
         "31",
         "1",
         "25.74",
         "0",
         "1",
         "3756.6216",
         "0",
         "0",
         "1",
         "0"
        ],
        [
         "6",
         "46",
         "1",
         "33.44",
         "1",
         "1",
         "8240.5896",
         "0",
         "0",
         "1",
         "0"
        ],
        [
         "7",
         "37",
         "1",
         "27.74",
         "3",
         "1",
         "7281.5056",
         "0",
         "1",
         "0",
         "0"
        ],
        [
         "8",
         "37",
         "0",
         "29.83",
         "2",
         "1",
         "6406.4107",
         "1",
         "0",
         "0",
         "0"
        ],
        [
         "9",
         "60",
         "1",
         "25.84",
         "0",
         "1",
         "28923.13692",
         "0",
         "1",
         "0",
         "0"
        ],
        [
         "10",
         "25",
         "0",
         "26.22",
         "0",
         "1",
         "2721.3208",
         "1",
         "0",
         "0",
         "0"
        ],
        [
         "11",
         "62",
         "1",
         "26.29",
         "0",
         "0",
         "27808.7251",
         "0",
         "0",
         "1",
         "0"
        ],
        [
         "12",
         "23",
         "0",
         "34.4",
         "0",
         "1",
         "1826.843",
         "0",
         "0",
         "0",
         "1"
        ],
        [
         "13",
         "56",
         "1",
         "39.82",
         "0",
         "1",
         "11090.7178",
         "0",
         "0",
         "1",
         "0"
        ],
        [
         "14",
         "27",
         "0",
         "42.13",
         "0",
         "0",
         "39611.7577",
         "0",
         "0",
         "1",
         "0"
        ],
        [
         "15",
         "19",
         "0",
         "24.6",
         "1",
         "1",
         "1837.237",
         "0",
         "0",
         "0",
         "1"
        ],
        [
         "16",
         "52",
         "1",
         "30.78",
         "1",
         "1",
         "10797.3362",
         "1",
         "0",
         "0",
         "0"
        ],
        [
         "17",
         "23",
         "0",
         "23.845",
         "0",
         "1",
         "2395.17155",
         "1",
         "0",
         "0",
         "0"
        ],
        [
         "18",
         "56",
         "0",
         "40.3",
         "0",
         "1",
         "10602.385",
         "0",
         "0",
         "0",
         "1"
        ],
        [
         "19",
         "30",
         "0",
         "35.3",
         "0",
         "0",
         "36837.467",
         "0",
         "0",
         "0",
         "1"
        ],
        [
         "20",
         "60",
         "1",
         "36.005",
         "0",
         "1",
         "13228.84695",
         "1",
         "0",
         "0",
         "0"
        ],
        [
         "21",
         "30",
         "1",
         "32.4",
         "1",
         "1",
         "4149.736",
         "0",
         "0",
         "0",
         "1"
        ],
        [
         "22",
         "18",
         "0",
         "34.1",
         "0",
         "1",
         "1137.011",
         "0",
         "0",
         "1",
         "0"
        ],
        [
         "23",
         "34",
         "1",
         "31.92",
         "1",
         "0",
         "37701.8768",
         "1",
         "0",
         "0",
         "0"
        ],
        [
         "24",
         "37",
         "0",
         "28.025",
         "2",
         "1",
         "6203.90175",
         "0",
         "1",
         "0",
         "0"
        ],
        [
         "25",
         "59",
         "1",
         "27.72",
         "3",
         "1",
         "14001.1338",
         "0",
         "0",
         "1",
         "0"
        ],
        [
         "26",
         "63",
         "1",
         "23.085",
         "0",
         "1",
         "14451.83515",
         "1",
         "0",
         "0",
         "0"
        ],
        [
         "27",
         "55",
         "1",
         "32.775",
         "2",
         "1",
         "12268.63225",
         "0",
         "1",
         "0",
         "0"
        ],
        [
         "28",
         "23",
         "0",
         "17.385",
         "1",
         "1",
         "2775.19215",
         "0",
         "1",
         "0",
         "0"
        ],
        [
         "29",
         "31",
         "0",
         "36.3",
         "2",
         "0",
         "38711.0",
         "0",
         "0",
         "0",
         "1"
        ],
        [
         "30",
         "22",
         "0",
         "35.6",
         "0",
         "0",
         "35585.576",
         "0",
         "0",
         "0",
         "1"
        ],
        [
         "31",
         "18",
         "1",
         "26.315",
         "0",
         "1",
         "2198.18985",
         "1",
         "0",
         "0",
         "0"
        ],
        [
         "32",
         "19",
         "1",
         "28.6",
         "5",
         "1",
         "4687.797",
         "0",
         "0",
         "0",
         "1"
        ],
        [
         "33",
         "63",
         "0",
         "28.31",
         "0",
         "1",
         "13770.0979",
         "0",
         "1",
         "0",
         "0"
        ],
        [
         "34",
         "28",
         "0",
         "36.4",
         "1",
         "0",
         "51194.55914",
         "0",
         "0",
         "0",
         "1"
        ],
        [
         "35",
         "19",
         "0",
         "20.425",
         "0",
         "1",
         "1625.43375",
         "0",
         "1",
         "0",
         "0"
        ],
        [
         "36",
         "62",
         "1",
         "32.965",
         "3",
         "1",
         "15612.19335",
         "0",
         "1",
         "0",
         "0"
        ],
        [
         "37",
         "26",
         "0",
         "20.8",
         "0",
         "1",
         "2302.3",
         "0",
         "0",
         "0",
         "1"
        ],
        [
         "38",
         "35",
         "0",
         "36.67",
         "1",
         "0",
         "39774.2763",
         "1",
         "0",
         "0",
         "0"
        ],
        [
         "39",
         "60",
         "0",
         "39.9",
         "0",
         "0",
         "48173.361",
         "0",
         "0",
         "0",
         "1"
        ],
        [
         "40",
         "24",
         "1",
         "26.6",
         "0",
         "1",
         "3046.062",
         "1",
         "0",
         "0",
         "0"
        ],
        [
         "41",
         "31",
         "1",
         "36.63",
         "2",
         "1",
         "4949.7587",
         "0",
         "0",
         "1",
         "0"
        ],
        [
         "42",
         "41",
         "0",
         "21.78",
         "1",
         "1",
         "6272.4772",
         "0",
         "0",
         "1",
         "0"
        ],
        [
         "43",
         "37",
         "1",
         "30.8",
         "2",
         "1",
         "6313.759",
         "0",
         "0",
         "1",
         "0"
        ],
        [
         "44",
         "38",
         "0",
         "37.05",
         "1",
         "1",
         "6079.6715",
         "1",
         "0",
         "0",
         "0"
        ],
        [
         "45",
         "55",
         "0",
         "37.3",
         "0",
         "1",
         "20630.28351",
         "0",
         "0",
         "0",
         "1"
        ],
        [
         "46",
         "18",
         "1",
         "38.665",
         "2",
         "1",
         "3393.35635",
         "1",
         "0",
         "0",
         "0"
        ],
        [
         "47",
         "28",
         "1",
         "34.77",
         "0",
         "1",
         "3556.9223",
         "0",
         "1",
         "0",
         "0"
        ],
        [
         "48",
         "60",
         "1",
         "24.53",
         "0",
         "1",
         "12629.8967",
         "0",
         "0",
         "1",
         "0"
        ],
        [
         "49",
         "36",
         "0",
         "35.2",
         "1",
         "0",
         "38709.176",
         "0",
         "0",
         "1",
         "0"
        ]
       ],
       "shape": {
        "columns": 10,
        "rows": 1338
       }
      },
      "text/html": [
       "<div>\n",
       "<style scoped>\n",
       "    .dataframe tbody tr th:only-of-type {\n",
       "        vertical-align: middle;\n",
       "    }\n",
       "\n",
       "    .dataframe tbody tr th {\n",
       "        vertical-align: top;\n",
       "    }\n",
       "\n",
       "    .dataframe thead th {\n",
       "        text-align: right;\n",
       "    }\n",
       "</style>\n",
       "<table border=\"1\" class=\"dataframe\">\n",
       "  <thead>\n",
       "    <tr style=\"text-align: right;\">\n",
       "      <th></th>\n",
       "      <th>age</th>\n",
       "      <th>sex</th>\n",
       "      <th>bmi</th>\n",
       "      <th>children</th>\n",
       "      <th>smoker</th>\n",
       "      <th>charges</th>\n",
       "      <th>region_northeast</th>\n",
       "      <th>region_northwest</th>\n",
       "      <th>region_southeast</th>\n",
       "      <th>region_southwest</th>\n",
       "    </tr>\n",
       "  </thead>\n",
       "  <tbody>\n",
       "    <tr>\n",
       "      <th>0</th>\n",
       "      <td>19</td>\n",
       "      <td>1</td>\n",
       "      <td>27.900</td>\n",
       "      <td>0</td>\n",
       "      <td>0</td>\n",
       "      <td>16884.92400</td>\n",
       "      <td>0</td>\n",
       "      <td>0</td>\n",
       "      <td>0</td>\n",
       "      <td>1</td>\n",
       "    </tr>\n",
       "    <tr>\n",
       "      <th>1</th>\n",
       "      <td>18</td>\n",
       "      <td>0</td>\n",
       "      <td>33.770</td>\n",
       "      <td>1</td>\n",
       "      <td>1</td>\n",
       "      <td>1725.55230</td>\n",
       "      <td>0</td>\n",
       "      <td>0</td>\n",
       "      <td>1</td>\n",
       "      <td>0</td>\n",
       "    </tr>\n",
       "    <tr>\n",
       "      <th>2</th>\n",
       "      <td>28</td>\n",
       "      <td>0</td>\n",
       "      <td>33.000</td>\n",
       "      <td>3</td>\n",
       "      <td>1</td>\n",
       "      <td>4449.46200</td>\n",
       "      <td>0</td>\n",
       "      <td>0</td>\n",
       "      <td>1</td>\n",
       "      <td>0</td>\n",
       "    </tr>\n",
       "    <tr>\n",
       "      <th>3</th>\n",
       "      <td>33</td>\n",
       "      <td>0</td>\n",
       "      <td>22.705</td>\n",
       "      <td>0</td>\n",
       "      <td>1</td>\n",
       "      <td>21984.47061</td>\n",
       "      <td>0</td>\n",
       "      <td>1</td>\n",
       "      <td>0</td>\n",
       "      <td>0</td>\n",
       "    </tr>\n",
       "    <tr>\n",
       "      <th>4</th>\n",
       "      <td>32</td>\n",
       "      <td>0</td>\n",
       "      <td>28.880</td>\n",
       "      <td>0</td>\n",
       "      <td>1</td>\n",
       "      <td>3866.85520</td>\n",
       "      <td>0</td>\n",
       "      <td>1</td>\n",
       "      <td>0</td>\n",
       "      <td>0</td>\n",
       "    </tr>\n",
       "    <tr>\n",
       "      <th>...</th>\n",
       "      <td>...</td>\n",
       "      <td>...</td>\n",
       "      <td>...</td>\n",
       "      <td>...</td>\n",
       "      <td>...</td>\n",
       "      <td>...</td>\n",
       "      <td>...</td>\n",
       "      <td>...</td>\n",
       "      <td>...</td>\n",
       "      <td>...</td>\n",
       "    </tr>\n",
       "    <tr>\n",
       "      <th>1333</th>\n",
       "      <td>50</td>\n",
       "      <td>0</td>\n",
       "      <td>30.970</td>\n",
       "      <td>3</td>\n",
       "      <td>1</td>\n",
       "      <td>10600.54830</td>\n",
       "      <td>0</td>\n",
       "      <td>1</td>\n",
       "      <td>0</td>\n",
       "      <td>0</td>\n",
       "    </tr>\n",
       "    <tr>\n",
       "      <th>1334</th>\n",
       "      <td>18</td>\n",
       "      <td>1</td>\n",
       "      <td>31.920</td>\n",
       "      <td>0</td>\n",
       "      <td>1</td>\n",
       "      <td>2205.98080</td>\n",
       "      <td>1</td>\n",
       "      <td>0</td>\n",
       "      <td>0</td>\n",
       "      <td>0</td>\n",
       "    </tr>\n",
       "    <tr>\n",
       "      <th>1335</th>\n",
       "      <td>18</td>\n",
       "      <td>1</td>\n",
       "      <td>36.850</td>\n",
       "      <td>0</td>\n",
       "      <td>1</td>\n",
       "      <td>1629.83350</td>\n",
       "      <td>0</td>\n",
       "      <td>0</td>\n",
       "      <td>1</td>\n",
       "      <td>0</td>\n",
       "    </tr>\n",
       "    <tr>\n",
       "      <th>1336</th>\n",
       "      <td>21</td>\n",
       "      <td>1</td>\n",
       "      <td>25.800</td>\n",
       "      <td>0</td>\n",
       "      <td>1</td>\n",
       "      <td>2007.94500</td>\n",
       "      <td>0</td>\n",
       "      <td>0</td>\n",
       "      <td>0</td>\n",
       "      <td>1</td>\n",
       "    </tr>\n",
       "    <tr>\n",
       "      <th>1337</th>\n",
       "      <td>61</td>\n",
       "      <td>1</td>\n",
       "      <td>29.070</td>\n",
       "      <td>0</td>\n",
       "      <td>0</td>\n",
       "      <td>29141.36030</td>\n",
       "      <td>0</td>\n",
       "      <td>1</td>\n",
       "      <td>0</td>\n",
       "      <td>0</td>\n",
       "    </tr>\n",
       "  </tbody>\n",
       "</table>\n",
       "<p>1338 rows × 10 columns</p>\n",
       "</div>"
      ],
      "text/plain": [
       "      age  sex     bmi  children  smoker      charges  region_northeast  \\\n",
       "0      19    1  27.900         0       0  16884.92400                 0   \n",
       "1      18    0  33.770         1       1   1725.55230                 0   \n",
       "2      28    0  33.000         3       1   4449.46200                 0   \n",
       "3      33    0  22.705         0       1  21984.47061                 0   \n",
       "4      32    0  28.880         0       1   3866.85520                 0   \n",
       "...   ...  ...     ...       ...     ...          ...               ...   \n",
       "1333   50    0  30.970         3       1  10600.54830                 0   \n",
       "1334   18    1  31.920         0       1   2205.98080                 1   \n",
       "1335   18    1  36.850         0       1   1629.83350                 0   \n",
       "1336   21    1  25.800         0       1   2007.94500                 0   \n",
       "1337   61    1  29.070         0       0  29141.36030                 0   \n",
       "\n",
       "      region_northwest  region_southeast  region_southwest  \n",
       "0                    0                 0                 1  \n",
       "1                    0                 1                 0  \n",
       "2                    0                 1                 0  \n",
       "3                    1                 0                 0  \n",
       "4                    1                 0                 0  \n",
       "...                ...               ...               ...  \n",
       "1333                 1                 0                 0  \n",
       "1334                 0                 0                 0  \n",
       "1335                 0                 1                 0  \n",
       "1336                 0                 0                 1  \n",
       "1337                 1                 0                 0  \n",
       "\n",
       "[1338 rows x 10 columns]"
      ]
     },
     "execution_count": 973,
     "metadata": {},
     "output_type": "execute_result"
    }
   ],
   "source": [
    "df_encoded = pd.get_dummies(df,columns=['region'])\n",
    "df_encoded[['region_northeast', 'region_northwest', 'region_southeast', 'region_southwest']] = \\\n",
    "    df_encoded[['region_northeast', 'region_northwest', 'region_southeast', 'region_southwest']].astype(int)\n",
    "df_encoded['smoker'] = df_encoded['smoker'].apply(lambda x: 0 if x == 'yes' else 1)\n",
    "df_encoded['sex'] = df_encoded['sex'].apply(lambda x: 0 if x == 'male' else 1)\n",
    "df_encoded\n"
   ]
  },
  {
   "cell_type": "markdown",
   "metadata": {},
   "source": [
    "Now let's split our X and our y's \n"
   ]
  },
  {
   "cell_type": "code",
   "execution_count": 974,
   "metadata": {},
   "outputs": [],
   "source": [
    "X = df_encoded.drop('charges' ,axis=1)\n",
    "y = df_encoded['charges']"
   ]
  },
  {
   "cell_type": "markdown",
   "metadata": {},
   "source": [
    "Let's scale our data "
   ]
  },
  {
   "cell_type": "code",
   "execution_count": 975,
   "metadata": {},
   "outputs": [],
   "source": [
    "scaler = StandardScaler()\n",
    "X = scaler.fit_transform(X)"
   ]
  },
  {
   "cell_type": "markdown",
   "metadata": {},
   "source": [
    "Now we split into training and testing data and also add an intercept term \n"
   ]
  },
  {
   "cell_type": "code",
   "execution_count": 976,
   "metadata": {},
   "outputs": [
    {
     "data": {
      "text/plain": [
       "array([[ 1.        ,  1.12447859,  1.0105187 , ...,  1.76548098,\n",
       "        -0.61132367, -0.56641788],\n",
       "       [ 1.        , -1.36756307, -0.98959079, ...,  1.76548098,\n",
       "        -0.61132367, -0.56641788],\n",
       "       [ 1.        ,  0.12766192, -0.98959079, ..., -0.56641788,\n",
       "        -0.61132367, -0.56641788],\n",
       "       ...,\n",
       "       [ 1.        ,  1.33808216, -0.98959079, ..., -0.56641788,\n",
       "        -0.61132367, -0.56641788],\n",
       "       [ 1.        , -0.15714284,  1.0105187 , ..., -0.56641788,\n",
       "        -0.61132367,  1.76548098],\n",
       "       [ 1.        ,  1.12447859, -0.98959079, ..., -0.56641788,\n",
       "        -0.61132367,  1.76548098]], shape=(869, 10))"
      ]
     },
     "execution_count": 976,
     "metadata": {},
     "output_type": "execute_result"
    }
   ],
   "source": [
    "X_train, X_test, y_train, y_test = train_test_split(X, y, test_size=0.35, random_state=42)\n",
    "\n",
    "\n",
    "def add_intercept(X):\n",
    "    n_samples = X.shape[0]\n",
    "    ones = np.ones((n_samples, 1))\n",
    "    return np.hstack((ones, X))\n",
    "\n",
    "X_train = add_intercept(X_train)\n",
    "X_test = add_intercept(X_test)\n",
    "\n",
    "X_train"
   ]
  },
  {
   "cell_type": "code",
   "execution_count": 977,
   "metadata": {},
   "outputs": [
    {
     "data": {
      "text/plain": [
       "array([13218.3128092 ,  3662.19038477,   -90.36678628,  2199.93387757,\n",
       "         470.41495962, -9523.02995691,   233.22107455,    86.25553174,\n",
       "        -139.74017045,  -176.25297108])"
      ]
     },
     "execution_count": 977,
     "metadata": {},
     "output_type": "execute_result"
    }
   ],
   "source": [
    "beta_init = np.random.randn(X_train.shape[1])\n",
    "lmbda_param = 0.1\n",
    "lr = 0.1\n",
    "itter = 1000\n",
    "beta_hat = lasso_gd(X_train,y_train,beta_init,lmbda_param,lr,itter)\n",
    "beta_hat\n"
   ]
  },
  {
   "cell_type": "code",
   "execution_count": 978,
   "metadata": {},
   "outputs": [
    {
     "data": {
      "text/plain": [
       "array([ 8726.55694129,  7004.26052279, 36772.48638307,  9420.8517567 ,\n",
       "       27036.44180077, 11089.95295838,  -136.98582391, 17331.66285663,\n",
       "         667.42913827, 11265.92094173, 27749.82025822,  9475.21554901,\n",
       "        4899.03323025, 38496.77050596, 40460.11789291, 37136.52592219,\n",
       "       15228.46266286, 35731.76126744,  8776.0565781 , 31296.68778397,\n",
       "        3447.81773961, 10109.95978746,  2277.20843245,  7228.28626657,\n",
       "       11140.22419375, 13001.04038127, 14483.47879304,  5965.74334731,\n",
       "        9762.32555798,  2019.61689923,  8736.77663998, 13131.46017362,\n",
       "        4328.12592887,  2976.73104315,  4348.49202483, 13406.33296108,\n",
       "        1564.79375331,  8564.44919909, 33039.58709801, 32528.16085445,\n",
       "        3398.72933079,  4404.82350906, 14083.46263895, 11536.66245503,\n",
       "        8736.22212767, 12051.10087166,  5176.52230541,  2630.68468359,\n",
       "       35412.05444408,  9167.45920366, 15795.79155032,  2132.10609848,\n",
       "       12551.75388185,  1429.08618969, 13476.41011022, 12713.81338873,\n",
       "        4318.12409944, 32227.97707376, 13240.20014601, 12945.99366231,\n",
       "       14074.80860517, 10432.95897634, 16456.97817267,  7532.45270935,\n",
       "       11828.13470105,  3834.39077237, 26262.57473848, 10706.59475798,\n",
       "        1817.90025793,  6343.53715955, 10977.19524723, 11558.62919659,\n",
       "       10812.67241915,  9070.11131151, 12047.77437936,  6453.01994662,\n",
       "        7278.30368695, 10642.23057713,  6259.27781402,  8350.97278142,\n",
       "        3692.35108729, 36706.4354472 ,  6050.45723789, 30736.94403508,\n",
       "       35149.8446762 , 35428.75803385,  6835.82968258, 13133.54167088,\n",
       "        9850.26097644, 14551.40316336, 17822.0064432 , 34851.67960671,\n",
       "       32799.07386774,  6148.15892173, 31944.39176682,  9444.10035526,\n",
       "       29222.39004935,  3392.51490729, 27912.35924805,  5501.91701301,\n",
       "        5247.28631376,  1555.13445161, 11669.09666064, 15153.21660145,\n",
       "       11750.04478922,  4236.07736254,  9778.40931742, 31409.8937676 ,\n",
       "        -250.84283846, 32334.07877541,  3251.60335748, 10410.94569152,\n",
       "       14331.56903699, 31500.63400131, 11401.96568883,  3866.63916719,\n",
       "       13272.07430078, 31398.52480137,  7812.09722181,  3225.63665631,\n",
       "        8382.07188809, 10778.01765248, 15317.33609842,  5648.40447772,\n",
       "        3470.50911939, 10185.86299498, 10732.93203574, 11239.86649696,\n",
       "       14355.80658315,  7571.01856957,  5052.73255047,  9132.03052929,\n",
       "        9116.68086024, 12677.04124005,  8177.64007262, 15515.61616067,\n",
       "        8631.66042789, 31728.69869187, 35911.54186508, 31481.10755708,\n",
       "        5872.87974873, 12664.47889499,  6011.11882212, 14665.49894804,\n",
       "        2256.98025813, 32746.80644356,  6257.81626101,  4756.33962437,\n",
       "       14383.70763963,  6875.70635765, 38675.17543306,  2928.79512002,\n",
       "        5989.37400122, 31776.98962562, 11721.69086044,  8686.70714685,\n",
       "       15062.09676686,  9513.17974458, 26770.00199962, 33554.44974663,\n",
       "       14516.2356381 ,  1419.05141243, 13059.54932165,  2150.01524093,\n",
       "        5321.37439993, 11599.06137911, 39802.58379542, 36490.01214801,\n",
       "       34083.19501539,  3624.89015004,  7025.33480481,  8459.74616623,\n",
       "       12870.34705205,  4797.39118203,  1687.79477765, 31863.35249035,\n",
       "       24901.35534297, 17745.79503025, 25917.86719554, 10011.59197847,\n",
       "       37163.5712192 ,  -938.88619444,  6672.3823959 ,  7589.04900614,\n",
       "        4165.67613207,  5075.18205771,  5956.25168035,  3990.34549715,\n",
       "       15269.32754246, 11282.19131332,  6909.27724072,  2345.43923094,\n",
       "        1228.53973742, 31914.7557864 , 16628.82683647, 11872.81235901,\n",
       "         973.35595598, 12410.41413882,  1316.91125452,  8447.52906253,\n",
       "        1585.42757814, 33995.6234085 , 11010.67815347,  2538.71532985,\n",
       "       25158.36496212, 25839.00511605,  9532.73428565,  1370.69225154,\n",
       "       13454.66528931,   586.83575836, 10241.57486144, 10175.52190703,\n",
       "       17249.8173328 , 26592.64526016,  6671.12636742,  5028.7715454 ,\n",
       "        5465.67163499, 12867.185914  , 10765.89450846,  8130.84509854,\n",
       "        5150.031762  , 12699.44909175, 14059.96554098, 35775.93609706,\n",
       "        4288.72543971, 28781.44787148, -1440.22772535,  2957.92024289,\n",
       "       10975.11789461, 15572.53377443,  5223.42567417,  6595.72773545,\n",
       "        3391.58784695, 31195.49958572,  6959.33284733, 12524.49047296,\n",
       "        5666.78363302,  9609.79359433, 36168.0893073 ,  4372.64599985,\n",
       "        9388.63011872, 31104.5415505 ,  5747.34556252,  4235.86900059,\n",
       "        1003.71708768,  4954.60777199,  4177.4078596 ,  6454.3364242 ,\n",
       "       18650.64632251, -1773.30844866,  2068.50767234, 10692.46996616,\n",
       "        2783.15555105, 10012.0280771 ,  3613.2444288 ,  4808.76567776,\n",
       "       12426.72280249,  6373.50794481,  8209.60582774,  7386.31562761,\n",
       "        8738.40664661, 10300.34738606, 27607.65142378, 39138.40357159,\n",
       "       11712.2834597 ,  7720.18998856, 41057.0172307 , 12202.2818529 ,\n",
       "        6758.39587464,  8158.75878406,  8798.96870758, 10775.04071211,\n",
       "        9783.33483907, 17842.32085519,   677.31115169, 23381.98326297,\n",
       "       13007.20757447, 33286.45679212,  5044.78124101, 13255.01012564,\n",
       "       10359.75634207, 18008.46213535,  9609.30165632, 11624.07450438,\n",
       "       32171.94503073,  3288.63665527, 13573.20439906, 39472.42433992,\n",
       "        5497.03441109,  6339.50022003,  3339.68294149, 11355.75625234,\n",
       "       25025.95291353, 14241.57099063,  8907.81910169, 10061.91565305,\n",
       "       13543.42029187,   486.70106333,  2127.62883988, 30795.15158304,\n",
       "       29931.38978535, 13794.12226287,  3557.92116874, 25301.18951256,\n",
       "       13332.41589188, 30692.36748566,  3381.20784764, 38962.48260461,\n",
       "       11299.43356106,  4776.49368776,  6465.22365754,  2370.2915246 ,\n",
       "       25789.645884  , 14319.29810391,   265.90048223, 12538.26735689,\n",
       "       12699.58937272, 15072.14151602, 34981.6394353 , 14371.42183566,\n",
       "       31376.45446902,  9798.08388843, 18313.76473546,  5896.74309478,\n",
       "        8656.96386504,  9224.00507978, 15214.16510413,  8842.76955906,\n",
       "        8559.09146339, 15245.20454472, 12714.20390916, 15013.33122043,\n",
       "        7444.99416473, 25918.60862004,  9247.54482842,  1758.9304048 ,\n",
       "        3917.12112385, 14367.90387083, 35714.01687928,  9376.19132894,\n",
       "       12673.20237211,  5015.65611814,  4752.27222868,  3713.64567371,\n",
       "        2688.28188975,  8884.29690035,  6950.17667313,  2275.54671351,\n",
       "       12932.2026232 ,  8788.96128408,  5742.22170735,   351.0002934 ,\n",
       "        9170.83097502,  4792.80230344, 32987.39006616, 28516.08141923,\n",
       "       36900.46675128,  5525.89682151,  8440.73162178,  8153.75722803,\n",
       "        3403.78960665, 31447.50621784,  7028.22349841, 28013.51016864,\n",
       "       36242.39112614,  6843.39214301, 12823.39855039,  9903.38875992,\n",
       "        8110.24006564, 12718.01306401, 29891.1924404 , 17375.96579337,\n",
       "       12055.78032904,  3885.23781606, -1683.18933014, 12116.89010864,\n",
       "       30723.30602978, 12970.86885605, 11200.22959699,  8065.15382961,\n",
       "        3541.87178814,  7011.40712758,  6915.54080808, 10452.24884295,\n",
       "       33589.94030826, 39046.2489699 , 11760.56340799,  8233.17238971,\n",
       "       16720.8272433 , 15740.32045321,  9564.06093571,  9347.73604988,\n",
       "        8765.45027222,  2465.27606282, 10063.6891588 ,  3537.62133791,\n",
       "       10389.19277276, 16312.13289116,  6554.36827151,  2002.59657214,\n",
       "       14593.378304  ,  -103.1179348 , 13934.47956943,  8307.03729104,\n",
       "       13032.23447052, 36321.1084145 , 33781.82927005, 35363.34225391,\n",
       "        5681.29017298,  6202.52271404, 16508.49003738,  8287.98814578,\n",
       "       37752.06849281,  4899.68916016,  8212.97888395,  9723.34868457,\n",
       "       29891.33572561,  5342.39096714,  3425.33762016, 16946.77192256,\n",
       "        3623.68559161,  6020.823924  , 10435.88763341, -1223.39555748,\n",
       "       29157.79097305,  8324.46788825,  9985.6535329 ,  5518.23099225,\n",
       "        7429.95928088, 11201.05523974, 28725.72773319,  9280.08528233,\n",
       "       10644.37148125,  6420.90463371,  4020.17639876,   585.30786441,\n",
       "        7642.77976864, 11184.95498601,  9903.7768452 ,  8285.17622965,\n",
       "        6164.36785986,  4196.72503288,  7390.02365413, 33639.88729107,\n",
       "       33511.36671232,  2998.68248869, 39995.02174003, 28534.61965894,\n",
       "       10574.72724126,  4081.64347881, 17025.80254667,  3612.49036676,\n",
       "        8989.15953874, 29375.39888684, 16194.90990196, 12349.49563711,\n",
       "        8378.39558193, 12736.61176086,  2647.16336914, 14310.25650595,\n",
       "        3762.85857418, 12011.67176454, 11079.44938446,  5673.06180131,\n",
       "       11018.10373449,  5858.39846818, 10215.67104449,  7838.40680502,\n",
       "       31048.10429013])"
      ]
     },
     "execution_count": 978,
     "metadata": {},
     "output_type": "execute_result"
    }
   ],
   "source": [
    "predict = lambda x,beta: x@beta\n",
    "predictions = predict(X_test,beta_hat)\n",
    "predictions "
   ]
  },
  {
   "cell_type": "code",
   "execution_count": 979,
   "metadata": {},
   "outputs": [
    {
     "data": {
      "text/plain": [
       "0.7522839980933614"
      ]
     },
     "execution_count": 979,
     "metadata": {},
     "output_type": "execute_result"
    }
   ],
   "source": [
    "r2_score(y_test,predictions)"
   ]
  },
  {
   "cell_type": "markdown",
   "metadata": {},
   "source": [
    "**Now lets do some beyesian stuff**\\\n",
    "What I plan on doing is running a simple linear regression in a bayesian context, first we will attempt to do it analytically and then I will try using some MCMC methods instead "
   ]
  },
  {
   "cell_type": "markdown",
   "metadata": {},
   "source": [
    "Let's do the derivation \n",
    "\n",
    "we assume that: \n",
    "\n",
    "$$y_i = \\alpha + \\beta x_i + \\epsilon_i \\text{ and   } \\epsilon_i \\sim N(0,\\sigma^2)$$\n",
    "\n",
    "for our conjugate priors pn our betas and the error variance, we wil be using a Normal inverse Gamma prior:\n",
    "\n",
    "for our betas given $\\sigma^2$: \n",
    "$$ (\\alpha, \\beta)|\\sigma^2 \\sim N(\\theta_0,\\sigma^2 \\Sigma_0) $$\n",
    "where $\\theta_0$ is the prior mean and $\\Sigma_0$ is a 2x2 covariance matrix\n",
    "\n",
    "for the variance: \n",
    "$$\\sigma^2 \\sim InvGamma(a_0,b_0)$$\n",
    "\n"
   ]
  },
  {
   "cell_type": "markdown",
   "metadata": {},
   "source": [
    "now, given the data y with the design matrix X, the likelihood is: \n",
    "\n",
    "$$p(y|\\alpha, \\beta , \\sigma^2) \\propto (\\sigma^2)^{n/2} \\exp \\bigg(- \\frac{1}{2\\sigma^2}(y-X\\theta)^T(y-X\\theta)\\bigg)  $$\n",
    "with: $\\theta = (\\alpha,\\beta)^T$"
   ]
  },
  {
   "cell_type": "markdown",
   "metadata": {},
   "source": [
    "Now, when we combine tghe likelihood with the conjugate prior, it still yields a Normal invers Gamma: \n",
    "- the posterior for $\\theta | \\sigma^2,y $ is: \n",
    "\n",
    "$$\n",
    "\\theta | \\sigma^2,y \\sim N(\\theta_n, \\sigma^2, \\Sigma_n)\n",
    "$$\n",
    "Where: \n",
    "$$\n",
    "\\Sigma_n^{-1} =  \\Sigma_0^{-1} + X^TX  \\text{  and  } \\theta_n = \\Sigma_n(\\Sigma_0^{-1}\\theta_0 + X^Ty)\n",
    "$$\n",
    "\n",
    "- the posterior for $\\sigma^2$ is: \n",
    "\n",
    "$$\\sigma^2|y  \\sim InvGamma(a_n, b_n)\n",
    "$$\n",
    "\n",
    "With: \n",
    "\n",
    "$$\n",
    "a_n = a_0 + n/2 \\text{ and } b_n = b_0 + 1/2 \\bigg(y^Ty + \\theta_0^T \\Sigma_0^{-1} \\theta_0 - \\theta_n^T \\Sigma_n^{-1} \\theta_n \\bigg)\n",
    "$$"
   ]
  },
  {
   "cell_type": "markdown",
   "metadata": {},
   "source": [
    "Now let's writ some code that applies this"
   ]
  },
  {
   "cell_type": "code",
   "execution_count": null,
   "metadata": {},
   "outputs": [],
   "source": [
    "np.random.seed(42)\n",
    "n = 100\n",
    "x = np.linspace(0, 10, n)\n",
    "true_alpha = 1.0\n",
    "true_beta = 2.0\n",
    "true_sigma = 1.0\n",
    "y = true_alpha + true_beta * x + np.random.normal(0, true_sigma, size=n)\n",
    "\n",
    "#  Creating the design matrix with an intercept column included!!!! \n",
    "X = np.column_stack((np.ones(n),x))\n",
    "\n",
    "# These are the for (alpha, beta) given sigma squared \n",
    "theta_0 = np.array([0,0])\n",
    "Cov_0 = np.eye(2) * 1e6\n",
    "\n",
    "# prior for sigma squared\n",
    "a0 = 0.001\n",
    "b0 = 0.001\n",
    "\n",
    "# We now coput the posterior hyperparameters\n",
    "Cov_0_inv = np.linalg.inv(Cov_0)\n",
    "\n",
    "# Then update the covariance matrix\n",
    "Cov_n_inv = Cov_0_inv + X.T @ X \n",
    "Cov_n = np.linalg.inv(Cov_n_inv)\n",
    "\n",
    "# now we get the posterior mean for (alpha, bets)\n",
    "theta_n  = Cov_n @ (Cov_0_inv @ theta_0 + X.T @ y)\n",
    "\n",
    "# Now we do the posterior shape param for sigma squared\n",
    "a_n = a0 + n/2\n",
    "\n",
    "# Posterior scale parameter for sigma^2\n",
    "# Note: y^T y + theta0^T cov0_inv theta0 - theta_n^T covn_inv theta_n computes the adjustment\n",
    "b_n = b0 + 0.5 * (y.T @ y + theta_0.T @ Cov_0_inv @ theta_0 - theta_n.T @ Cov_n_inv  @ theta_n)\n"
   ]
  },
  {
   "cell_type": "code",
   "execution_count": 982,
   "metadata": {},
   "outputs": [
    {
     "name": "stdout",
     "output_type": "stream",
     "text": [
      "Posterior mean of (alpha, beta): [0.82718713 2.01379327]\n",
      "Posterior covariance (scaled by sigma^2): [[ 0.03940594 -0.00588119]\n",
      " [-0.00588119  0.00117624]]\n",
      "Posterior shape parameter for sigma^2: 50.001\n",
      "Posterior scale parameter for sigma^2: 40.74623804471937\n"
     ]
    }
   ],
   "source": [
    "print(\"Posterior mean of (alpha, beta):\", theta_n)\n",
    "print(\"Posterior covariance (scaled by sigma^2):\", Cov_n)\n",
    "print(\"Posterior shape parameter for sigma^2:\", a_n)\n",
    "print(\"Posterior scale parameter for sigma^2:\", b_n)"
   ]
  },
  {
   "cell_type": "markdown",
   "metadata": {},
   "source": [
    "finally soe plotting code from chat GPT \n",
    "Idk what it means but it's suposedly isightful"
   ]
  },
  {
   "cell_type": "code",
   "execution_count": 983,
   "metadata": {},
   "outputs": [
    {
     "data": {
      "image/png": "[encoded data removed]",
      "text/plain": [
       "<Figure size 432x288 with 2 Axes>"
      ]
     },
     "metadata": {
      "needs_background": "light"
     },
     "output_type": "display_data"
    }
   ],
   "source": [
    "# Create a grid for alpha and beta\n",
    "alpha_vals = np.linspace(theta_n[0] - 3*np.sqrt(Cov_n [0,0]), theta_n[0] + 3*np.sqrt(Cov_n [0,0]), 100)\n",
    "beta_vals  = np.linspace(theta_n[1] - 3*np.sqrt(Cov_n [1,1]), theta_n[1] + 3*np.sqrt(Cov_n [1,1]), 100)\n",
    "A, B = np.meshgrid(alpha_vals, beta_vals)\n",
    "\n",
    "# Compute the (unnormalized) density of theta given sigma^2 (up to sigma^2 scaling)\n",
    "# Here we ignore the sigma^2 integration and display the kernel of the Normal density.\n",
    "# For each (alpha, beta) the kernel is: exp(-0.5*(theta - theta_n)^T Vn^{-1} (theta - theta_n))\n",
    "inv_Vn = np.linalg.inv(Cov_n )\n",
    "diff = np.array([A - theta_n[0], B - theta_n[1]])\n",
    "exponent = -0.5 * (inv_Vn[0, 0]*diff[0]**2 + 2*inv_Vn[0, 1]*diff[0]*diff[1] + inv_Vn[1, 1]*diff[1]**2)\n",
    "density = np.exp(exponent)\n",
    "\n",
    "plt.contourf(A, B, density, levels=50, cmap='viridis')\n",
    "plt.xlabel('alpha')\n",
    "plt.ylabel('beta')\n",
    "plt.title('Posterior density (kernel) of (alpha, beta) given sigma^2')\n",
    "plt.colorbar(label='Density')\n",
    "plt.show()"
   ]
  }
 ],
 "metadata": {
  "kernelspec": {
   "display_name": "Python 3",
   "language": "python",
   "name": "python3"
  },
  "language_info": {
   "codemirror_mode": {
    "name": "ipython",
    "version": 3
   },
   "file_extension": ".py",
   "mimetype": "text/x-python",
   "name": "python",
   "nbconvert_exporter": "python",
   "pygments_lexer": "ipython3",
   "version": "3.10.6"
  }
 },
 "nbformat": 4,
 "nbformat_minor": 2
}
